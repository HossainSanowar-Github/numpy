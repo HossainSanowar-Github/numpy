{
 "cells": [
  {
   "cell_type": "code",
   "execution_count": 1,
   "id": "5b9afc59",
   "metadata": {},
   "outputs": [],
   "source": [
    "import numpy as np"
   ]
  },
  {
   "cell_type": "markdown",
   "id": "3da25091",
   "metadata": {},
   "source": [
    "Data Types\n",
    "1. Boolean : np.bool_\n",
    "2. Char : np.byte\n",
    "3. Short : np.short\n",
    "4. Integer : np.short\n",
    "5. Long : np.int_\n",
    "6. Float : np.single & np.float32\n",
    "7. Double : np.double & np.float64\n",
    "8. np.int8 : -128 to 127\n",
    "9. np.int16 : -32768 to 32767\n",
    "10. np.int32 : -2147483648 to 2147483647\n",
    "11. np.int64 : -9223372036854775808 to 9223372036854775807"
   ]
  },
  {
   "cell_type": "markdown",
   "id": "728d3aa9",
   "metadata": {},
   "source": [
    "# NumPy Arrays : Creating Arrays"
   ]
  },
  {
   "cell_type": "markdown",
   "id": "e9642032",
   "metadata": {},
   "source": [
    "1. convert numpy from list by `np.array()`, `dtype=np.int8`\n",
    "2. convert multidimensional array from list\n",
    "3. we can create range of array by `np.arange(1,10,2)`: start:stop:step\n",
    "4. we can create floats number using `np.linspace(1,10)`\n",
    "5. can create zeros and ones by `np.zeros(), np.ones()`\n",
    "6. get size, shape, type by `np_array.size,.shape, \n",
    ".dtype`\n",
    "7. create random number by `np.random.randint(10,50,5)"
   ]
  },
  {
   "cell_type": "markdown",
   "id": "c61843d2",
   "metadata": {},
   "source": [
    "# Slicing and Indexes"
   ]
  },
  {
   "cell_type": "markdown",
   "id": "de789240",
   "metadata": {},
   "source": [
    "1. get value by index `np_arr[2,1]` or `np.array.item(2,1)` #2=row, 1=column\n",
    "2. get specifice index by `np.take(np_arr, [0,3,6])` #index position\n",
    "3. Replace provided specific index values with new values `np.put(np_m_arr_1, [0, 3, 6], [10, 10, 10])`\n",
    "4. Start at 1st through 5th with 2 step `np_arr[:5:2]\n",
    "5. get 2nd value from each row `np_arr[:,1]`\n",
    "6. get flip Array `np_arr[::-1]` #inter change row\n",
    "7. get evens `np_arr[np_arr%2==0]\n",
    "8. get values>5 by `np_arr>5`\n",
    "9. get 5<value<9 `np_arr[(np_arr>5)&(np_arr<9)]`\n",
    "10. get 5 < value or value = 9 `np_arr[(np_arr>5)&(np_arr==6)]`\n",
    "11. get find uniques `np.unique(np_arr)`"
   ]
  },
  {
   "cell_type": "markdown",
   "id": "62d89f64",
   "metadata": {},
   "source": [
    "# Reshaping Arrays"
   ]
  },
  {
   "cell_type": "markdown",
   "id": "d5c234b7",
   "metadata": {},
   "source": [
    "1. reshape array to 1 by 9 `np_arr.reshape(1,9)`\n",
    "2. reshape array to 2 by 5 (Items are either lost or 0s added)`np_arr.resize((3,3))`\n",
    "3. get transpose axes `np_arr.transpose()`\n",
    "4. get swap axes `np_arr.swapaxes(0,1)`\n",
    "5. get flatten in order `np_arr.flatten()`\n",
    "6. get flatten in column order `np_arr.flatten('F')\n",
    "7. get sort rows `np_arr.sort(axis=1)`\n",
    "8. get sort columns`np_arr.sort(axis=0)`"
   ]
  },
  {
   "cell_type": "markdown",
   "id": "729919dd",
   "metadata": {},
   "source": [
    "# Stacking & Splitting"
   ]
  },
  {
   "cell_type": "markdown",
   "id": "ba174b1a",
   "metadata": {},
   "source": [
    "1. Stack arr_2 under arr_1 using `np.vstack((ss_arr_1, ss_arr_2))`\n",
    "2. Stack horizontally row wise `np.hstack((ss_arr_1, ss_arr_2))`\n",
    "3. Delete 2nd row on each array `np.delete(ss_arr_1, 1, 0)`\n",
    "4. Combine arrays `np.column_stack((ss_arr_3, ss_arr_4))`\n",
    "5. Stack in a 2D array `np.row_stack((ss_arr_3, ss_arr_4))`"
   ]
  },
  {
   "cell_type": "markdown",
   "id": "626b6564",
   "metadata": {},
   "source": [
    "# Basic Math"
   ]
  },
  {
   "cell_type": "markdown",
   "id": "3ea6131b",
   "metadata": {},
   "source": [
    "1. Basic math operation using `+,-,*,/`\n",
    "2. get 4 random floats `random.rand(4)`\n",
    "3. get random value from an array `random.choice(arr_3)`\n",
    "4. Sum of values in array `Sum columns` arr_6.sum(axis=0) and `sum of rows` arr_6.sum(axis=1)\n",
    "5. Cumulative sum of rows `arr_6.cumsum(axis=1)`\n",
    "6. Min of each row `arr_6.min(axis=1)`\n",
    "7. Max of each column `arr_6.max(axis=0)`\n",
    "8. get `np.add, subtract, multiply, divide, remainder, power, sqrt, cbrt, absolute, exp, log, log2, log10, gcd.reduce, lcm.reduce, floor, ceil, arange\n",
    "9. get index for max value per column `arr_7.argmax(axis=0)`\n",
    "10. get numbers corresponding to indexes `arr_7[mc_index, range(arr_7.shape[1])]`"
   ]
  },
  {
   "cell_type": "markdown",
   "id": "d38cb6b0",
   "metadata": {},
   "source": [
    "# Reading from files"
   ]
  },
  {
   "cell_type": "code",
   "execution_count": 144,
   "id": "1def02a4",
   "metadata": {},
   "outputs": [],
   "source": [
    "#Import using NumPy\n",
    "from numpy import genfromtxt\n",
    "import pandas as pd"
   ]
  },
  {
   "cell_type": "markdown",
   "id": "ff624ece",
   "metadata": {},
   "source": [
    "1. Read table of data from CSV file and convert to Numpy array `pd.read_csv('icecreamsales.csv').to_numpy()`\n",
    "2. Read data using NumPy `genfromtxt('icecreamsales.csv',delimiter=',')`\n",
    "3. Remove NANs `[row[~np.isnan(row)] for row in df_1]`"
   ]
  },
  {
   "cell_type": "markdown",
   "id": "4694ac18",
   "metadata": {},
   "source": [
    "# Statistics Functions"
   ]
  },
  {
   "cell_type": "markdown",
   "id": "668d429c",
   "metadata": {},
   "source": [
    "1. np_arr=np.arange(1,6)\n",
    "2. np.mean(np_arr), np.median(), np.average(), np.std(), np.var(),np.nanmedian(), np.nanmean(), np.nanstd(), np.nanvar()"
   ]
  },
  {
   "cell_type": "markdown",
   "id": "9148dc45",
   "metadata": {},
   "source": [
    "# Saving and Loading Numpy Objects"
   ]
  },
  {
   "cell_type": "markdown",
   "id": "3646c367",
   "metadata": {},
   "source": [
    "1. Save as randarray.npy `np.save('randarray',np_arr)`\n",
    "2. Load saved array `np.load('randarray.npy')`\n",
    "3. Save as a CSV `np.savetxt('randcsv.csv', arr_15)`\n",
    "4. Load CSV `np.loadtxt('randcsv.csv')`"
   ]
  },
  {
   "cell_type": "markdown",
   "id": "4b623d5f",
   "metadata": {},
   "source": [
    "# Financial Functions"
   ]
  },
  {
   "cell_type": "markdown",
   "id": "99d96429",
   "metadata": {},
   "source": [
    "# Comparison Functions"
   ]
  },
  {
   "cell_type": "code",
   "execution_count": 185,
   "id": "7a3e537c",
   "metadata": {},
   "outputs": [
    {
     "data": {
      "text/plain": [
       "array([False, False])"
      ]
     },
     "execution_count": 185,
     "metadata": {},
     "output_type": "execute_result"
    }
   ],
   "source": [
    "carr_1 = np.array([2, 3])\n",
    "carr_2 = np.array([3, 2])\n",
    "# Returns boolean based on whether arr_1 value Comparison arr_2 value\n",
    "np.greater(carr_1, carr_2)\n",
    "np.greater_equal(carr_1, carr_2)\n",
    "np.less(carr_1, carr_2)\n",
    "np.less_equal(carr_1, carr_2)\n",
    "np.not_equal(carr_1, carr_2)\n",
    "np.equal(carr_1, carr_2)"
   ]
  }
 ],
 "metadata": {
  "kernelspec": {
   "display_name": "Python 3.9 (tensorflow)",
   "language": "python",
   "name": "tensorflow"
  },
  "language_info": {
   "codemirror_mode": {
    "name": "ipython",
    "version": 3
   },
   "file_extension": ".py",
   "mimetype": "text/x-python",
   "name": "python",
   "nbconvert_exporter": "python",
   "pygments_lexer": "ipython3",
   "version": "3.9.7"
  }
 },
 "nbformat": 4,
 "nbformat_minor": 5
}
